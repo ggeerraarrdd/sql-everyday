{
 "cells": [
  {
   "cell_type": "markdown",
   "metadata": {},
   "source": [
    "# SQL Everyday"
   ]
  },
  {
   "cell_type": "code",
   "execution_count": 1,
   "metadata": {},
   "outputs": [],
   "source": [
    "from jinja2 import Template\n",
    "import re\n",
    "import os"
   ]
  },
  {
   "cell_type": "markdown",
   "metadata": {},
   "source": [
    "## Add New Content"
   ]
  },
  {
   "cell_type": "code",
   "execution_count": 2,
   "metadata": {},
   "outputs": [],
   "source": [
    "url = \"\"\"\n",
    "<Fill in here>\n",
    "\"\"\""
   ]
  },
  {
   "cell_type": "code",
   "execution_count": 3,
   "metadata": {},
   "outputs": [],
   "source": [
    "title = \"\"\"\n",
    "<Fill in here>\n",
    "\"\"\""
   ]
  },
  {
   "cell_type": "code",
   "execution_count": 4,
   "metadata": {},
   "outputs": [],
   "source": [
    "site = \"<Fill in here>\"\n",
    "difficulty = \"<Fill in here>\""
   ]
  },
  {
   "cell_type": "code",
   "execution_count": 5,
   "metadata": {},
   "outputs": [],
   "source": [
    "problem = \"\"\"\n",
    "<Fill in here>\n",
    "\"\"\""
   ]
  },
  {
   "cell_type": "code",
   "execution_count": 6,
   "metadata": {},
   "outputs": [],
   "source": [
    "submitted_solution = \"\"\"\n",
    "<Fill in here>\n",
    "\"\"\""
   ]
  },
  {
   "cell_type": "code",
   "execution_count": 7,
   "metadata": {},
   "outputs": [],
   "source": [
    "site_solution = \"\"\"\n",
    "<Fill in here>\n",
    "\"\"\""
   ]
  },
  {
   "cell_type": "code",
   "execution_count": 8,
   "metadata": {},
   "outputs": [],
   "source": [
    "# Default TODO\n",
    "notes = \"\"\"\n",
    "TODO\n",
    "\"\"\""
   ]
  },
  {
   "cell_type": "code",
   "execution_count": 9,
   "metadata": {},
   "outputs": [],
   "source": [
    "# Default blank\n",
    "note2self = \"\"\"\n",
    "\n",
    "\"\"\""
   ]
  },
  {
   "cell_type": "markdown",
   "metadata": {},
   "source": [
    "## Create New Solution File"
   ]
  },
  {
   "cell_type": "code",
   "execution_count": null,
   "metadata": {},
   "outputs": [],
   "source": [
    "# Strip leading and trailing newlines\n",
    "title = title.strip(\"\\n\")\n",
    "problem = problem.strip(\"\\n\")\n",
    "url = url.strip(\"\\n\")\n",
    "submitted_solution = submitted_solution.strip(\"\\n\")\n",
    "site_solution = site_solution.strip(\"\\n\")\n",
    "notes = notes.strip(\"\\n\")\n",
    "note2self = note2self.strip(\"\\n\")\n",
    "\n",
    "# Get current day\n",
    "def get_current_day():\n",
    "    files = sorted(os.listdir(\"../solutions\"))\n",
    "    \n",
    "    last_file = files[-1]\n",
    "    number = int(last_file[:3]) + 1\n",
    "\n",
    "    if number < 100:\n",
    "        result = f\"0{number}\"\n",
    "    else:\n",
    "        result = str(number)\n",
    "\n",
    "    return result\n",
    "\n",
    "day = get_current_day()\n",
    "\n",
    "# Create output file name\n",
    "def fname(title, day):\n",
    "    filename = title.lower()\n",
    "    filename = re.sub(r\"[^a-z0-9\\s]\", \"\", filename)\n",
    "    filename = filename.replace(\" \", \"_\")\n",
    "\n",
    "    result = f\"{day}_{filename.strip(\"\\n\")}.md\"\n",
    "\n",
    "    return result\n",
    "\n",
    "output_filename = fname(title, day)\n",
    "\n",
    "# Load the template\n",
    "with open(\"template.txt\", \"r\") as file:\n",
    "    template_content = file.read()\n",
    "\n",
    "# Create a Jinja2 template object\n",
    "template = Template(template_content)\n",
    "\n",
    "# Data to fill the template\n",
    "data = {\n",
    "    \"day\": day,\n",
    "    \"title\": title,\n",
    "    \"site\": site,\n",
    "    \"difficulty\": difficulty,\n",
    "    \"problem\": problem,\n",
    "    \"url\": url,\n",
    "    \"submitted_solution\": submitted_solution,\n",
    "    \"site_solution\": site_solution,\n",
    "    \"notes\": notes,\n",
    "    \"lastline\": \"\\n\"\n",
    "}\n",
    "\n",
    "# Render the template with the data\n",
    "filled_document = template.render(data)\n",
    "\n",
    "# Save the filled document as new markdown file\n",
    "with open(f\"../solutions/{output_filename}\", \"w\") as file:\n",
    "    file.write(filled_document)\n",
    "\n",
    "print(\"Solution markdown file created!\")"
   ]
  },
  {
   "cell_type": "markdown",
   "metadata": {},
   "source": [
    "## Create New Entry"
   ]
  },
  {
   "cell_type": "code",
   "execution_count": null,
   "metadata": {},
   "outputs": [],
   "source": [
    "# Create new entry\n",
    "entry_title = f\"[{title}]({url})\"\n",
    "extra_spaces = \" \" * (98 - (len(entry_title)))\n",
    "\n",
    "entry = f\"| {day}   | {entry_title}{extra_spaces}  | [Solution](solutions/{output_filename}) | {site} | {difficulty} | {note2self}  |\"\n",
    "\n",
    "# Read the contents of README.md\n",
    "with open(\"../README.md\", \"r\") as file:\n",
    "    lines = file.readlines()\n",
    "\n",
    "for i, line in enumerate(lines):\n",
    "    if line == \"## Authors\":\n",
    "        position = i - 1\n",
    "        break\n",
    "\n",
    "# Insert new entry at specified position\n",
    "lines.insert(position, entry.strip(\"\\n\") + '\\n')\n",
    "\n",
    "# Write the modified contents back to README.md\n",
    "with open(\"../README.md\", \"w\") as file:\n",
    "    file.writelines(lines)\n",
    "\n",
    "print(\"README.md updated with new entry!\")"
   ]
  }
 ],
 "metadata": {
  "kernelspec": {
   "display_name": "venv",
   "language": "python",
   "name": "python3"
  },
  "language_info": {
   "codemirror_mode": {
    "name": "ipython",
    "version": 3
   },
   "file_extension": ".py",
   "mimetype": "text/x-python",
   "name": "python",
   "nbconvert_exporter": "python",
   "pygments_lexer": "ipython3",
   "version": "3.12.1"
  }
 },
 "nbformat": 4,
 "nbformat_minor": 2
}
