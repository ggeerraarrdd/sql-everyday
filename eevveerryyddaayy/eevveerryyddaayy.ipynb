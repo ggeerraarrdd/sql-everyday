{
 "cells": [
  {
   "cell_type": "markdown",
   "metadata": {},
   "source": [
    "# SQL Everyday"
   ]
  },
  {
   "cell_type": "markdown",
   "metadata": {},
   "source": [
    "_SQL Everyday_ is a personal challenge to solve at least one SQL problem everyday for the next 365 days, starting from September 28, 2024. \n",
    "\n",
    "For every problem and its solution, a new markdown file is created and a new entry added to the [Contents](/README.md#contents) section of the [landing page](https://github.com/ggeerraarrdd/sql-everyday). This Jupyter notebook is intended to make those tasks easier by automating as much of the process as possible."
   ]
  },
  {
   "cell_type": "code",
   "execution_count": 1,
   "metadata": {},
   "outputs": [],
   "source": [
    "# Python Standard Library\n",
    "import re\n",
    "import os\n",
    "\n",
    "# Third-Party Libraries\n",
    "from jinja2 import Template\n",
    "\n",
    "# Local\n",
    "from helpers import everyday"
   ]
  },
  {
   "cell_type": "markdown",
   "metadata": {},
   "source": [
    "## Add New Content"
   ]
  },
  {
   "cell_type": "code",
   "execution_count": 2,
   "metadata": {},
   "outputs": [],
   "source": [
    "url = \"\"\"\n",
    "https://leetcode.com/problems/percentage-of-users-attended-a-contest/description/\n",
    "\"\"\""
   ]
  },
  {
   "cell_type": "code",
   "execution_count": 3,
   "metadata": {},
   "outputs": [],
   "source": [
    "title = \"\"\"\n",
    "Percentage of Users Attended a Contest\n",
    "\"\"\""
   ]
  },
  {
   "cell_type": "code",
   "execution_count": 4,
   "metadata": {},
   "outputs": [],
   "source": [
    "site = \"LeetCode\"\n",
    "difficulty = \"Easy\""
   ]
  },
  {
   "cell_type": "code",
   "execution_count": 5,
   "metadata": {},
   "outputs": [],
   "source": [
    "problem = \"\"\"\n",
    "Write a solution to find the percentage of the users registered in each contest rounded to *two decimals*.\n",
    "\n",
    "Return the result table ordered by `percentage` in *descending order*. In case of a tie, order it by `contest_id` in *ascending order*.\n",
    "\"\"\""
   ]
  },
  {
   "cell_type": "code",
   "execution_count": 6,
   "metadata": {},
   "outputs": [],
   "source": [
    "submitted_solution = \"\"\"\n",
    "SELECT \n",
    "    contest_id\n",
    "    ,ROUND(COUNT(DISTINCT user_id) / (SELECT COUNT(user_id) FROM Users) * 100, 2) as percentage\n",
    "FROM Register \n",
    "GROUP BY contest_id\n",
    "ORDER BY percentage DESC, contest_id ASC\n",
    ";\n",
    "\"\"\""
   ]
  },
  {
   "cell_type": "code",
   "execution_count": 7,
   "metadata": {},
   "outputs": [],
   "source": [
    "site_solution = \"\"\"\n",
    "SELECT \n",
    "  contest_id, -- The ID of the contest\n",
    "  ROUND(\n",
    "    COUNT(DISTINCT user_id) * 100 / ( -- Calculate the percentage of users\n",
    "      SELECT \n",
    "        COUNT(user_id) -- Total number of unique users\n",
    "      FROM \n",
    "        Users\n",
    "    ), \n",
    "    2\n",
    "  ) AS percentage -- The percentage of users registered for each contest, rounded to 2 decimal places\n",
    "FROM \n",
    "  Register -- The table containing registration information\n",
    "GROUP BY \n",
    "  contest_id -- Group the data by contest ID\n",
    "ORDER BY \n",
    "  percentage DESC, -- Order the results by percentage in descending order\n",
    "  contest_id; -- Then order by contest ID for ties\n",
    "\"\"\""
   ]
  },
  {
   "cell_type": "code",
   "execution_count": 8,
   "metadata": {},
   "outputs": [],
   "source": [
    "# Default TODO\n",
    "notes = \"\"\"\n",
    "TODO\n",
    "\"\"\""
   ]
  },
  {
   "cell_type": "code",
   "execution_count": 9,
   "metadata": {},
   "outputs": [],
   "source": [
    "# Default blank\n",
    "note2self = \"\"\"\n",
    "\n",
    "\"\"\""
   ]
  },
  {
   "cell_type": "markdown",
   "metadata": {},
   "source": [
    "## Create New Solution File"
   ]
  },
  {
   "cell_type": "code",
   "execution_count": 10,
   "metadata": {},
   "outputs": [
    {
     "name": "stdout",
     "output_type": "stream",
     "text": [
      "Solution markdown file created!\n",
      "README.md updated with new entry!\n"
     ]
    }
   ],
   "source": [
    "results = everyday(title, problem, url, submitted_solution, site_solution, notes, note2self, site, difficulty)"
   ]
  }
 ],
 "metadata": {
  "kernelspec": {
   "display_name": "venv",
   "language": "python",
   "name": "python3"
  },
  "language_info": {
   "codemirror_mode": {
    "name": "ipython",
    "version": 3
   },
   "file_extension": ".py",
   "mimetype": "text/x-python",
   "name": "python",
   "nbconvert_exporter": "python",
   "pygments_lexer": "ipython3",
   "version": "3.12.1"
  }
 },
 "nbformat": 4,
 "nbformat_minor": 2
}
