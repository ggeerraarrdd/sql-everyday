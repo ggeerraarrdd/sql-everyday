{
 "cells": [
  {
   "cell_type": "markdown",
   "metadata": {},
   "source": [
    "# SQL Everyday"
   ]
  },
  {
   "cell_type": "code",
   "execution_count": 1,
   "metadata": {},
   "outputs": [],
   "source": [
    "from jinja2 import Template\n",
    "import re\n",
    "import os"
   ]
  },
  {
   "cell_type": "markdown",
   "metadata": {},
   "source": [
    "## Add New Content"
   ]
  },
  {
   "cell_type": "code",
   "execution_count": 2,
   "metadata": {},
   "outputs": [],
   "source": [
    "url = \"\"\"\n",
    "<Fill in here>\n",
    "\"\"\""
   ]
  },
  {
   "cell_type": "code",
   "execution_count": 3,
   "metadata": {},
   "outputs": [],
   "source": [
    "title = \"\"\"\n",
    "<Fill in here>\n",
    "\"\"\""
   ]
  },
  {
   "cell_type": "code",
   "execution_count": 4,
   "metadata": {},
   "outputs": [],
   "source": [
    "site = \"DataLemur\"\n",
    "difficulty = \"Easy\""
   ]
  },
  {
   "cell_type": "code",
   "execution_count": 5,
   "metadata": {},
   "outputs": [],
   "source": [
    "problem = \"\"\"\n",
    "<Fill in here>\n",
    "\"\"\""
   ]
  },
  {
   "cell_type": "code",
   "execution_count": 6,
   "metadata": {},
   "outputs": [],
   "source": [
    "submitted_solution = \"\"\"\n",
    "<Fill in here>\n",
    "\"\"\""
   ]
  },
  {
   "cell_type": "code",
   "execution_count": 7,
   "metadata": {},
   "outputs": [],
   "source": [
    "site_solution = \"\"\"\n",
    "<Fill in here>\n",
    "\"\"\""
   ]
  },
  {
   "cell_type": "code",
   "execution_count": 8,
   "metadata": {},
   "outputs": [],
   "source": [
    "# Default TODO\n",
    "notes = \"\"\"\n",
    "TODO\n",
    "\"\"\""
   ]
  },
  {
   "cell_type": "code",
   "execution_count": 9,
   "metadata": {},
   "outputs": [],
   "source": [
    "# Default blank\n",
    "note2self = \"\"\"\n",
    "\n",
    "\"\"\""
   ]
  },
  {
   "cell_type": "markdown",
   "metadata": {},
   "source": [
    "## Create New Solution File"
   ]
  },
  {
   "cell_type": "code",
   "execution_count": null,
   "metadata": {},
   "outputs": [],
   "source": [
    "# Strip leading and trailing newlines\n",
    "title = title.strip(\"\\n\")\n",
    "problem = problem.strip(\"\\n\")\n",
    "url = url.strip(\"\\n\")\n",
    "submitted_solution = submitted_solution.strip(\"\\n\")\n",
    "site_solution = site_solution.strip(\"\\n\")\n",
    "notes = notes.strip(\"\\n\")\n",
    "note2self = note2self.strip(\"\\n\")\n",
    "\n",
    "# Get current day\n",
    "def get_current_day():\n",
    "    files = sorted(os.listdir(\"../solutions\"))\n",
    "    \n",
    "    last_file = files[-1]\n",
    "    number = int(last_file[:3]) + 1\n",
    "\n",
    "    if number < 100:\n",
    "        result = f\"0{number}\"\n",
    "    else:\n",
    "        result = str(number)\n",
    "\n",
    "    return result\n",
    "\n",
    "day = get_current_day()\n",
    "\n",
    "# Create output file name\n",
    "def fname(text):\n",
    "    # Convert to lowercase\n",
    "    text = text.lower()\n",
    "    # Remove non-alphanumeric characters\n",
    "    text = re.sub(r\"[^a-z0-9\\s]\", \"\", text)\n",
    "    # Replace spaces with underscores\n",
    "    text = text.replace(\" \", \"_\")\n",
    "\n",
    "    return text\n",
    "\n",
    "filename = fname(title)\n",
    "output_filename = f\"{day}_{filename.strip(\"\\n\")}.md\"\n",
    "\n",
    "# Load the template\n",
    "with open(\"template.txt\", \"r\") as file:\n",
    "    template_content = file.read()\n",
    "\n",
    "# Create a Jinja2 template object\n",
    "template = Template(template_content)\n",
    "\n",
    "# Data to fill the template\n",
    "data = {\n",
    "    \"day\": day,\n",
    "    \"title\": title,\n",
    "    \"site\": site,\n",
    "    \"difficulty\": difficulty,\n",
    "    \"problem\": problem,\n",
    "    \"url\": url,\n",
    "    \"submitted_solution\": submitted_solution,\n",
    "    \"site_solution\": site_solution,\n",
    "    \"notes\": notes,\n",
    "    \"lastline\": \"\\n\"\n",
    "}\n",
    "\n",
    "# Render the template with the data\n",
    "filled_document = template.render(data)\n",
    "\n",
    "# Save the filled document\n",
    "with open(f\"../solutions/{output_filename}\", \"w\") as file:\n",
    "    file.write(filled_document)\n",
    "\n",
    "print(\"Solution markdown file created!\")"
   ]
  },
  {
   "cell_type": "markdown",
   "metadata": {},
   "source": [
    "## Create New Entry"
   ]
  },
  {
   "cell_type": "code",
   "execution_count": null,
   "metadata": {},
   "outputs": [],
   "source": [
    "entry_title = f\"[{title}]({url})\"\n",
    "extra_spaces = \" \" * (98 - (len(entry_title)))\n",
    "\n",
    "entry = f\"\"\"\n",
    "| {day}   | {entry_title}{extra_spaces}  | [Solution](solutions/{output_filename}) | {site} | {difficulty} | {note2self}  |\n",
    "\"\"\"\n",
    "\n",
    "print(\"Copy-paste new entry below to README.md.\")\n",
    "\n",
    "print(entry)\n"
   ]
  }
 ],
 "metadata": {
  "kernelspec": {
   "display_name": "venv",
   "language": "python",
   "name": "python3"
  },
  "language_info": {
   "codemirror_mode": {
    "name": "ipython",
    "version": 3
   },
   "file_extension": ".py",
   "mimetype": "text/x-python",
   "name": "python",
   "nbconvert_exporter": "python",
   "pygments_lexer": "ipython3",
   "version": "3.12.1"
  }
 },
 "nbformat": 4,
 "nbformat_minor": 2
}
